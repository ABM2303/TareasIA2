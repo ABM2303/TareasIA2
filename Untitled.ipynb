{
 "cells": [
  {
   "cell_type": "code",
   "execution_count": 1,
   "id": "5dfc2254-12c9-474e-bcdd-8ae76f5bb3e3",
   "metadata": {},
   "outputs": [
    {
     "data": {
      "text/plain": [
       "'C:\\\\Users\\\\Martin'"
      ]
     },
     "execution_count": 1,
     "metadata": {},
     "output_type": "execute_result"
    }
   ],
   "source": [
    "pwd"
   ]
  },
  {
   "cell_type": "code",
   "execution_count": 1,
   "id": "5998e45a-833c-4a9a-b98e-baf963f25c15",
   "metadata": {},
   "outputs": [],
   "source": [
    "import cv2 as cv\n",
    "import numpy as np"
   ]
  },
  {
   "cell_type": "code",
   "execution_count": 6,
   "id": "590311ec-98bd-471f-8c6e-918c2df281c7",
   "metadata": {},
   "outputs": [],
   "source": [
    "def escala(imx, escala):\n",
    "    width = int(imx.shape[1] * escala / 100)\n",
    "    height = int(imx.shape[0] * escala / 100)\n",
    "    size = (width, height)\n",
    "    im = cv.resize(imx, size, interpolation = cv.INTER_AREA)\n",
    "    return im"
   ]
  },
  {
   "cell_type": "code",
   "execution_count": 8,
   "id": "7aa8b0ef-d021-4c24-ba0b-216af399601f",
   "metadata": {},
   "outputs": [],
   "source": [
    "img = cv.imread('f1.jpg',0)\n",
    "img2 = escala(img, 200)\n",
    "cv.imshow('original', img)\n",
    "cv.imshow('escalada', img2)\n",
    "cv.waitKey(0)\n",
    "cv.destroyAllWindows()"
   ]
  },
  {
   "cell_type": "code",
   "execution_count": 5,
   "id": "9c1e857b-6614-4083-a6f9-ea182bf6dfb0",
   "metadata": {},
   "outputs": [],
   "source": [
    "img = cv.imread('f1.jpg')\n",
    "w, h = img.shape[:2]\n",
    "img2 = np.zeros((w, h) , dtype=np.uint8)\n",
    "b,g,r=cv.split(img)\n",
    "cv.imshow('b',b)\n",
    "cv.imshow('g',g)\n",
    "cv.imshow('r',r)\n",
    "b1 = cv.merge([b,r,img2])\n",
    "g1 = cv.merge([r,g,b])\n",
    "r1 = cv.merge([b,g,r])\n",
    "cv.imshow('b1',b1)\n",
    "cv.imshow('g1',g1)\n",
    "cv.imshow('r1',r1)\n",
    "cv.imshow('marco2', img2)\n",
    "cv.waitKey(0)\n",
    "cv.destroyAllWindows()"
   ]
  },
  {
   "cell_type": "code",
   "execution_count": 8,
   "id": "a27958a2-4300-4cef-9054-4c43db85b81a",
   "metadata": {},
   "outputs": [],
   "source": [
    "img = cv.imread('f1.jpg')\n",
    "img2 = cv.cvtColor(img, cv.COLOR_BGR2GRAY)\n",
    "img3 = cv.cvtColor(img, cv.COLOR_BGR2HSV)\n",
    "cv.imshow(\"img\", img)\n",
    "cv.imshow(\"img2\",img2)\n",
    "cv.imshow(\"img3\",img3)\n",
    "cv.waitKey(0)\n",
    "cv.destroyAllWindows()\n"
   ]
  },
  {
   "cell_type": "code",
   "execution_count": null,
   "id": "e429115b-2d06-4392-92d1-28adbe06274f",
   "metadata": {},
   "outputs": [],
   "source": [
    "img = cv.imread(\"manzanas.png\",1)\n",
    "img2 = cv.cvtColor(img, cv.COLOR_BGR2HSV)\n",
    "vb=(0,60,60)\n",
    "va=(10,255,255)\n",
    "vb1=(170,60,60)\n",
    "va1=(180,255,255)\n",
    "mask=cv.inRange(img2, vb,va)\n",
    "mask1=cv.inRange(img2, vb1,va1)\n",
    "mask2= mask1 + mask\n",
    "res=cv.bitwise_and(img, img, mask=mask2)\n",
    "cv.imshow('mask',mask2)\n",
    "cv.imshow('img',img)\n",
    "cv.imshow('img2',img2)\n",
    "cv.imshow('res',res)\n",
    "cv.waitKey(0)\n",
    "cv.destroyAllWindows()"
   ]
  },
  {
   "cell_type": "code",
   "execution_count": 10,
   "id": "8b1c49c9-4660-4a2e-98a3-c74da8a05582",
   "metadata": {},
   "outputs": [],
   "source": [
    "cap = cv.VideoCapture(0)\n",
    "\n",
    "while True:\n",
    "\tres, img = cap.read()\n",
    "\timg2 = cv.cvtColor(img, cv.COLOR_BGR2HSV)\n",
    "\tvb=(90,100,100)\n",
    "\tva=(130,255,255)\n",
    "\tmask=cv.inRange(img2, vb,va)\n",
    "\tres=cv.bitwise_and(img, img, mask=mask)\n",
    "\tcv.imshow('captura', res)\n",
    "\tif cv.waitKey(1) &0xFF == ord('s'):\n",
    "\t\tbreak\n",
    "cap.release()\n",
    "cv.destroyAllWindows()"
   ]
  },
  {
   "cell_type": "code",
   "execution_count": 9,
   "id": "98a1bf9b-1381-4c92-8144-3698c725a893",
   "metadata": {},
   "outputs": [],
   "source": [
    "import cv2 as cv\n",
    "\n",
    "cap = cv.VideoCapture(0)\n",
    "\n",
    "while True:\n",
    "    res, img = cap.read()\n",
    "    img_hsv = cv.cvtColor(img, cv.COLOR_BGR2HSV)\n",
    "\n",
    "    # Definir el rango de color azul en formato HSV\n",
    "    vb = (90, 100, 100)\n",
    "    va = (130, 255, 255)\n",
    "\n",
    "    # Crear una máscara que filtre solo el color rojo\n",
    "    mask = cv.inRange(img_hsv, vb, va)\n",
    "\n",
    "    # Aplicar la máscara a la imagen original\n",
    "    result = cv.bitwise_and(img, img, mask=mask)\n",
    "\n",
    "    # Mostrar la imagen resultante\n",
    "    cv.imshow('captura', result)\n",
    "\n",
    "    # Salir del bucle si se presiona la tecla 's'\n",
    "    if cv.waitKey(1) & 0xFF == ord('s'):\n",
    "        break\n",
    "\n",
    "cap.release()\n",
    "cv.destroyAllWindows()"
   ]
  },
  {
   "cell_type": "code",
   "execution_count": null,
   "id": "8a13ed53-3e63-457d-b37f-84d00dc4c7ba",
   "metadata": {},
   "outputs": [],
   "source": [
    "import cv2 as cv\n",
    "import os"
   ]
  },
  {
   "cell_type": "code",
   "execution_count": null,
   "id": "30879284-fbf0-41d1-9e97-2b782b61de1f",
   "metadata": {},
   "outputs": [],
   "source": [
    "def rotar(img, i):\n",
    "\th,w = img.shape[:2]\n",
    "\tmw=cv.getRotationMatrix2D((h//2, w//2),45,-1)\n",
    "\timg2 = cv.warpAffine(img.mw(h,w))\n",
    "\tcv.imwrite('/home/likcos'+str(i)+'.jpg', img2)"
   ]
  },
  {
   "cell_type": "code",
   "execution_count": null,
   "id": "c06553dd-7962-4c32-a8ea-719f7ae06358",
   "metadata": {},
   "outputs": [],
   "source": [
    "def escalagris(img, i):\n",
    "\tgray = cv.cvtCole(img, cv.COLOR_BGR2GRAY)\n",
    "    cv.imwrite('/home/likcos/rotadas/gris/'+str(i)+'.jpg', gray)"
   ]
  },
  {
   "cell_type": "code",
   "execution_count": null,
   "id": "c6ebc3af-0f88-40c7-9e60-8563af0a2060",
   "metadata": {},
   "outputs": [],
   "source": [
    "i=0\n",
    "imgPaths = \"dataset\"\n",
    "nomFiles = os.listdir(imgpaths)\n",
    "for nomFile in nomFiles:\n",
    "\ti = i + 1\n",
    "\timgPath = imgPaths+\"/\"+ nomFile\n",
    "\timg = cv.imread(imgPath)\n",
    "\trotar(img,i)"
   ]
  },
  {
   "cell_type": "code",
   "execution_count": 4,
   "id": "3a721991-497a-4233-9f3a-99afd6fdd56f",
   "metadata": {},
   "outputs": [
    {
     "ename": "error",
     "evalue": "OpenCV(4.9.0) D:\\a\\opencv-python\\opencv-python\\opencv\\modules\\highgui\\src\\window.cpp:971: error: (-215:Assertion failed) size.width>0 && size.height>0 in function 'cv::imshow'\n",
     "output_type": "error",
     "traceback": [
      "\u001b[1;31m---------------------------------------------------------------------------\u001b[0m",
      "\u001b[1;31merror\u001b[0m                                     Traceback (most recent call last)",
      "Cell \u001b[1;32mIn[4], line 11\u001b[0m\n\u001b[0;32m      9\u001b[0m \u001b[38;5;28;01mwhile\u001b[39;00m \u001b[38;5;28;01mTrue\u001b[39;00m:\n\u001b[0;32m     10\u001b[0m     ret, frame \u001b[38;5;241m=\u001b[39m cap\u001b[38;5;241m.\u001b[39mread()\n\u001b[1;32m---> 11\u001b[0m     \u001b[43mcv\u001b[49m\u001b[38;5;241;43m.\u001b[39;49m\u001b[43mimshow\u001b[49m\u001b[43m(\u001b[49m\u001b[38;5;124;43m'\u001b[39;49m\u001b[38;5;124;43mimg\u001b[39;49m\u001b[38;5;124;43m'\u001b[39;49m\u001b[43m,\u001b[49m\u001b[43m \u001b[49m\u001b[43mframe\u001b[49m\u001b[43m)\u001b[49m\n\u001b[0;32m     12\u001b[0m     k \u001b[38;5;241m=\u001b[39m cv\u001b[38;5;241m.\u001b[39mwaitKey(\u001b[38;5;241m1\u001b[39m)\n\u001b[0;32m     13\u001b[0m     \u001b[38;5;66;03m#if k == ord('a'):\u001b[39;00m\n",
      "\u001b[1;31merror\u001b[0m: OpenCV(4.9.0) D:\\a\\opencv-python\\opencv-python\\opencv\\modules\\highgui\\src\\window.cpp:971: error: (-215:Assertion failed) size.width>0 && size.height>0 in function 'cv::imshow'\n"
     ]
    }
   ],
   "source": [
    "import numpy as np\n",
    "import cv2 as cv\n",
    "import math \n",
    "\n",
    " \n",
    "\n",
    "cap = cv.VideoCapture(\"C:\\\\Users\\\\Martin\\\\inundacion1.mp4\")\n",
    "i=1260\n",
    "while True:\n",
    "    ret, frame = cap.read()\n",
    "    cv.imshow('img', frame)\n",
    "    k = cv.waitKey(1)\n",
    "    #if k == ord('a'):\n",
    "    i=i+1\n",
    "    frame = cv.resize(frame, (28,21), interpolation = cv.INTER_AREA)\n",
    "    cv.imwrite('C:\\\\Users\\\\Martin\\\\sitriesgo\\\\inundaciones\\\\inundacion'+str(i)+'.jpg', frame )\n",
    "    if k == 27:\n",
    "        break\n",
    "cap.release()\n",
    "cv.destroyAllWindows()"
   ]
  },
  {
   "cell_type": "code",
   "execution_count": null,
   "id": "506b5877-5742-4822-8523-20a063b28d76",
   "metadata": {},
   "outputs": [],
   "source": []
  }
 ],
 "metadata": {
  "kernelspec": {
   "display_name": "Python 3 (ipykernel)",
   "language": "python",
   "name": "python3"
  },
  "language_info": {
   "codemirror_mode": {
    "name": "ipython",
    "version": 3
   },
   "file_extension": ".py",
   "mimetype": "text/x-python",
   "name": "python",
   "nbconvert_exporter": "python",
   "pygments_lexer": "ipython3",
   "version": "3.10.11"
  }
 },
 "nbformat": 4,
 "nbformat_minor": 5
}
